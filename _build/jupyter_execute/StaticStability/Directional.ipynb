{
 "cells": [
  {
   "cell_type": "markdown",
   "metadata": {},
   "source": [
    "# Directional Stability\n",
    "\n",
    "Directional stability refers to the aircraft's ability to maintain a stable attitude in yaw or heading. \n",
    "\n",
    "The aerodynamic angle relating to yaw movement is $\\beta$.\n",
    "\n",
    "A quick consideration of the signs convention will yield the stability criterion for $C_{n_\\beta}$ - which is the **yaw stiffness** - sometimes called the **weathercock derivative**:\n",
    "- A positive sideslip means the velocity approaches the aircraft from the stbd side, meaning that a positive sideslip is achieved by an aircraft motion *nose port*.\n",
    "- Hence this is achieved from a *negative* perturbation in $\\psi$.\n",
    "- To return the aircraft back to equilubrium would require a postive moment to cause the aircraft to move nose starboard.\n",
    "- Hence for stability, if $\\beta$ increases, $N$ also needs to increase. Hence $C_{m_\\beta}>0$ for stability.\n",
    "\n",
    "This can be confusing when compared with $C_{m_\\alpha}<0$ for stability, but a quick consideration of the aircraft axes and the direction of positive aerodynamic angles shows that this makes sense. It's actually the definition of alpha and beta that are opposite to one another - positive angle of attack is caused by a positive aircraft pitch, whereas positive sideslip is caused by negative aircraft yaw.\n",
    "\n",
    "For all the same reasoning as was shown for $C_{m_\\alpha}$, positive yaw stability is achieved if the lateral aerodynamic centre is situated aft of the centre of gravity. The lateral aerodynamic centre is the point at which the yawing moment does not vary with sideslip, and it can be readily intuited that this *must* be somewhere aft of the CG for any aircraft with a vertical stabiliser at the aft of the aircraft (that is, all of them).\n",
    "\n",
    "Yaw damping, $C_{n_R}$, the *rate of change of yawing moment with yaw rate* will always be restorative for the same reasoning as $C_{m_Q}$.\n"
   ]
  }
 ],
 "metadata": {
  "kernelspec": {
   "display_name": "Python 3",
   "language": "python",
   "name": "python3"
  },
  "language_info": {
   "codemirror_mode": {
    "name": "ipython",
    "version": 3
   },
   "file_extension": ".py",
   "mimetype": "text/x-python",
   "name": "python",
   "nbconvert_exporter": "python",
   "pygments_lexer": "ipython3",
   "version": "3.12.6"
  }
 },
 "nbformat": 4,
 "nbformat_minor": 4
}