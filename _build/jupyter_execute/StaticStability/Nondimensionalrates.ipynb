{
 "cells": [
  {
   "cell_type": "markdown",
   "metadata": {},
   "source": [
    "# Non-dimensional rates\n",
    "\n",
    "In the following, the stability in the other two axes will be described. Note that this is a simplified analysis to facilitate undergraduate understanding at this point in the course. In the full aircraft equations of motion which will be derived in the next module, there are 108 stability derivatives (and we could easily add more). A subset will be spoken about from first principles pertaining to the aircraft static stability.\n",
    "\n",
    "In the formulations used in this section for the roll, pitch, and yaw stability:\n",
    "\n",
    "$$\n",
    "\\begin{align}\n",
    "    C_{\\ell} & = C_{\\ell_\\beta}\\cdot\\beta + C_{\\ell_P}\\cdot P + C_{\\ell_{\\delta_a}}\\cdot\\delta_a\\\\\n",
    "    C_m & = C_{m_\\alpha}\\cdot\\alpha + C_{m_Q}\\cdot Q + C_{m_{\\delta_e}}\\cdot\\delta_e\\\\\n",
    "    C_n & = C_{n_\\beta}\\cdot\\beta + C_{n_R}\\cdot R + C_{n_{\\delta_r}}\\cdot\\delta_r\n",
    "\\end{align}\n",
    "$$\n",
    "\n",
    "the product of the right hand terms are unitless, but the derivatives themselves are dimensional. To compare different aircraft, the angular rates are often expressed in non-dimensional forms:\n",
    "\n",
    "$$\n",
    "\\begin{align}\n",
    "    \\bar{p}&\\triangleq\\frac{P\\, b}{2\\,V_\\infty}\\\\\n",
    "    \\bar{q}&\\triangleq\\frac{Q\\, \\bar{c}}{2\\,V_\\infty}\\\\\n",
    "    \\bar{r}&\\triangleq\\frac{R\\, b}{2\\,V_\\infty}\n",
    "\\end{align}\n",
    "$$\n",
    "\n",
    "this enables simpler expressions to be developed for the corresponding stability derivatives, *e.g.,* $C_{\\ell_{\\bar{p}}}$ and $C_{\\ell_{P}}$ both express *roll damping*, but the dimensional derivative is function of the aircraft geometry and forward speed whereas the nondimensional expression is not."
   ]
  }
 ],
 "metadata": {
  "kernelspec": {
   "display_name": "Python 3",
   "language": "python",
   "name": "python3"
  },
  "language_info": {
   "codemirror_mode": {
    "name": "ipython",
    "version": 3
   },
   "file_extension": ".py",
   "mimetype": "text/x-python",
   "name": "python",
   "nbconvert_exporter": "python",
   "pygments_lexer": "ipython3",
   "version": "3.12.6"
  }
 },
 "nbformat": 4,
 "nbformat_minor": 4
}