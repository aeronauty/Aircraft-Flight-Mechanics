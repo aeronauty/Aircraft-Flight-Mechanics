{
 "cells": [
  {
   "cell_type": "markdown",
   "metadata": {},
   "source": [
    "# Linear Aerodynamic Terms\n",
    "\n",
    "In addition to the terms expressed previously, linear expressions are required for the aerodynamic angles and the total flightspeed.\n",
    "\n",
    "## Angle of Attack\n",
    "\n",
    "Angle of attack is defined as\n",
    "\n",
    "$$\\alpha\\triangleq\\arctan\\frac{W}{U}$$\n",
    "\n",
    "which with the small perturbation theory is\n",
    "\n",
    "$$\\alpha=\\arctan\\frac{W_0+w}{U_0+u}$$\n",
    "\n",
    "in stability axes, $W_0=0$\n",
    "\n",
    "$$\\alpha=\\arctan\\frac{w}{U_0+u}$$\n",
    "\n",
    "and since $w$ is small\n",
    "\n",
    "$$\\alpha\\simeq\\frac{w}{U_0+u}$$\n",
    "\n",
    "the perturbational forward speed is much smaller than the trim forward speed and the **linear angle of attack is**:\n",
    "\n",
    "$$\\alpha=\\frac{w}{U_0}$$(eq:linearalpha)\n",
    "\n",
    "## Sideslip\n",
    "\n",
    "Sideslip is defined as\n",
    "\n",
    "$$\\beta\\triangleq\\arcsin\\frac{V}{V_f}$$\n",
    "\n",
    "where $V_f=\\sqrt{U^2+V^2+W^2}$. Looking at a linear expression for the total flightspeed:\n",
    "\n",
    "$$\\begin{align}V_f&=\\sqrt{\\left(U_0+u\\right)^2+\\left(V_0+v\\right)^2+\\left(W_0+w\\right)^2}\\\\\n",
    "&= \\sqrt{\\left(U_0+u\\right)^2+v^2+w^2}\\end{align}$$\n",
    "\n",
    "the trim $U_0$ is $\\gg$ all the perturbational terms so\n",
    "\n",
    "$$V_f\\simeq U_0$$\n",
    "\n",
    "giving the linear sideslip, subject to small $v$ as\n",
    "\n",
    "$$\\beta=\\frac{v}{U_0}$$"
   ]
  },
  {
   "cell_type": "code",
   "execution_count": null,
   "metadata": {},
   "outputs": [],
   "source": []
  }
 ],
 "metadata": {
  "kernelspec": {
   "display_name": "Python 3",
   "language": "python",
   "name": "python3"
  },
  "language_info": {
   "codemirror_mode": {
    "name": "ipython",
    "version": 3
   },
   "file_extension": ".py",
   "mimetype": "text/x-python",
   "name": "python",
   "nbconvert_exporter": "python",
   "pygments_lexer": "ipython3",
   "version": "3.12.6"
  }
 },
 "nbformat": 4,
 "nbformat_minor": 4
}