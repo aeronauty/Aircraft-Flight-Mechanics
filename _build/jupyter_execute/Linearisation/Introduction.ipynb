{
 "cells": [
  {
   "cell_type": "markdown",
   "metadata": {},
   "source": [
    "# The Road so Far...\n",
    "\n",
    "In the preceding chapters, nine equations describing unconstrained aircraft flight in six degrees of freedom have been described:\n",
    "\n",
    "**Translational Motion:**\n",
    "\n",
    "$$m\\begin{bmatrix} \\dot{U} + Q\\,W - R\\,V \\\\ \\dot{V} + R\\,U-P\\,W\\\\\\dot{W}+P\\,V-Q\\,U\\end{bmatrix}=\\begin{matrix} -mg\\sin\\theta - D\\cos\\alpha + L\\sin\\alpha + T\\cos\\theta_T\\\\mg\\sin\\phi\\cos\\theta + F_{A_Y} + F_{T_Y}\\\\mg\\cos\\phi\\cos\\theta - D\\sin\\alpha - L\\cos\\alpha - T\\sin\\theta_T\\end{matrix}$$(eq:tranlationalnonlinear)\n",
    "\n",
    "**Angular Motion:**\n",
    "\n",
    "$$\\left[{\\begin{matrix} \\dot{P}\\cdot I_{xx} \\\\ \\dot{Q}\\cdot I_{yy} \\\\\\dot{R}\\cdot I_{zz}\\end{matrix}} \\hspace{.5cm} \\begin{matrix} + \\\\+\\\\+\\end{matrix} \\hspace{.5cm} {\\begin{matrix} Q\\cdot R\\left(I_{zz} - I_{yy}\\right) \\\\ P\\cdot R\\left(I_{xx} - I_{zz}\\right) \\\\ P\\cdot Q\\left(I_{yy} - I_{xx}\\right)\\end{matrix}} \\hspace{.5cm} \\begin{matrix} - \\\\+\\\\+\\end{matrix} \\hspace{.5cm} {\\begin{matrix}\\left(\\dot{R} + P\\cdot Q\\right) I_{xz} \\\\ \\left(P^2 - R^2\\right) I_{xz} \\\\ \\left(Q\\cdot R - \\dot{P}\\right) I_{xz}\\end{matrix}} \\right] = \\begin{bmatrix} L \\\\ M \\\\ N\\end{bmatrix}$$(eq:rotationalnonlinear)\n",
    "\n",
    "**Body angular rate due to an attitude rate:**\n",
    "\n",
    "$$\\begin{aligned}\n",
    "    \\begin{bmatrix} P\\\\Q\\\\R\\end{bmatrix} &= \\begin{bmatrix}\n",
    "    1 & 0 & -\\sin\\theta\\\\\n",
    "    0 & \\cos\\phi & \\sin\\phi\\cos\\theta\\\\\n",
    "    0 & -\\sin\\phi & \\cos\\phi\\cos\\theta\n",
    " \\end{bmatrix}\\begin{bmatrix} \\dot{\\phi}\\\\\\dot{\\theta}\\\\\\dot{\\psi}\\end{bmatrix}\\end{aligned}$$(eq:attitiudetoanglenonlinear)\n",
    "\n",
    "**Attitude rate due to a body rate**\n",
    "\n",
    "$$\\begin{aligned}\n",
    "\\begin{bmatrix} \\dot{\\phi}\\\\\\dot{\\theta}\\\\\\dot{\\psi}\\end{bmatrix}&= \\begin{bmatrix}\n",
    "    1 & \\sin\\phi\\tan\\theta & \\cos\\phi\\tan\\theta\\\\\n",
    "    0 & \\cos\\phi & -\\sin\\phi    \\\\\n",
    "    0 & \\frac{\\sin\\phi}{\\cos\\theta} & \\frac{\\cos\\phi}{\\cos\\theta}\n",
    " \\end{bmatrix}\\begin{bmatrix} P\\\\Q\\\\R\\end{bmatrix}\\end{aligned}$$(eq:angletoattitudenonlinear)\n",
    " \n",
    " and _basic_ static stability characteristics have been explored in the form of derivatives. Whilst further understanding of the static stability derivatives can be performed using the methodologies shown, the full dynamic stability analysis is what is really required for aircraft design.\n",
    " \n",
    "When designing an aircraft for any given use case, the dynamic behaviour must be predicted via modelling of the system[^1]. You may design an aircraft with a drag-saving fuselage, a high-lift supercritical wing section, and a myriad of other 'high-tech' benefits - but if it cannot be flown, then it will be useless (if it is unstable, has poor handling qualities or, in the case of a military aircraft, is *too* stable).\n",
    "\n",
    "[^1]: note that this is true for any given Engineering task, but particularly for aircraft owing to the complexity\n",
    "\n",
    "In general, we can define the process for determining an aircraft dynamic properties:\n",
    "\n",
    "1.  Construct a mathematical model of the system (Module 3)\n",
    "\n",
    "2.  Determine the open loop stability characteristics (Partially performed in Module 2)\n",
    "\n",
    "3.  Determine the open loop transient response\n",
    "\n",
    "4.  Design and model a control system\n",
    "\n",
    "5.  Determine the closed-loop stability characteristics and transient response\n",
    "\n",
    "Item 1 was fulfilled in the development of the aircraft equations of motion, which are at the top of this page.\n",
    "\n",
    "Some of the open loop stability characteristics were explored in [Static Stability](ch:static-stability), but to go into a full analysis and to look at the transient response of the open loop system requires methodologies that will be explored in this and the following chapter.\n",
    "\n",
    "The control system will not be included in this course just yet, but may be included at a future data if I can offload the performance modules to Freshman/Sophomore classes, as I plan to.\n",
    "\n",
    "## Nonlinearity\n",
    "\n",
    "Equations {eq}`eq:tranlationalnonlinear` and {eq}`eq:rotationalnonlinear` comprise the **nonlinear aircraft equations of motion**, since they describe the relationships between forces and moments, and the motion in 6DoF. Equations {eq}`eq:attitiudetoanglenonlinear` and {eq}`eq:angletoattitudenonlinear` are required to related aircraft quantities into the inertial reference frame.\n",
    "\n",
    "The independent variables are the translational motion, $\\vec{V}=\\left[U, V, W\\right]^T$, and the rotational motion, $\\vec{omega}=\\left[P, Q, R\\right]^T$. These are referred to as **state variables** of the system.\n",
    "\n",
    "It should be apparent that {eq}`eq:tranlationalnonlinear` and {eq}`eq:rotationalnonlinear` are nonlinear since:\n",
    "- There are **product terms** in the right hand side _e.g.,_ $P\\,V-Q\\,U$\n",
    "- **Trigonometric terms** _e.g.,_ $D\\cos\\alpha + L\\sin\\alpha$\n",
    "- In the above the aerodynamic angle of attack, $\\alpha$, is a trigonometric function of two state variables, $U$, and $W$\n",
    "- We further know that the non-conservative aerodynamic forces, $L$ and $D$ are nonlinear functions of $\\alpha$ (and $V_\\infty$, $M_\\infty$, _etc._)\n",
    "\n",
    "The full nonlinear equations of motion can only be solved analytically for a small subset of problems, and often they are utilised through numerical solution - which is a _brute force_ means of analysing a system, and cannot easily help us determine stability characteristics. Furthermore, it's an _inelegant_ means to work, and it would be be superb if there were a better means to analyse these equations.\n",
    "\n",
    "So - the equations of motion shall be linearised to help understand stability."
   ]
  },
  {
   "cell_type": "markdown",
   "metadata": {},
   "source": []
  },
  {
   "cell_type": "markdown",
   "metadata": {},
   "source": []
  },
  {
   "cell_type": "code",
   "execution_count": null,
   "metadata": {},
   "outputs": [],
   "source": []
  }
 ],
 "metadata": {
  "kernelspec": {
   "display_name": "Python 3",
   "language": "python",
   "name": "python3"
  },
  "language_info": {
   "codemirror_mode": {
    "name": "ipython",
    "version": 3
   },
   "file_extension": ".py",
   "mimetype": "text/x-python",
   "name": "python",
   "nbconvert_exporter": "python",
   "pygments_lexer": "ipython3",
   "version": "3.12.6"
  }
 },
 "nbformat": 4,
 "nbformat_minor": 4
}