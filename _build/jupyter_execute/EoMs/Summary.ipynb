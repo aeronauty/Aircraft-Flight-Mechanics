{
 "cells": [
  {
   "cell_type": "markdown",
   "metadata": {},
   "source": [
    "# Summary of the equations of motion\n",
    "\n",
    "With the translational (Eq. {eq}`eq:translationalEoM`) and rotational (Eq. {eq}`eq:rotationalEoM`) defined, and the relationship between the Euler angles and the body rates (Eqs. {eq}`eq:eulerratetoomega` and {eq}`eq:omegatoeulerrate`), fully unconstrained flight in 6DoF can be described.\n",
    "\n"
   ]
  },
  {
   "cell_type": "markdown",
   "metadata": {},
   "source": [
    "\n",
    "In total twelve equations have been derived (body/attitude rates are only three but the matrix is tough to invert, so I'll include both versions below) that can describe aircraft position and attitude in a Newtonian framework:\n",
    "\n",
    "## Translational Motion:\n",
    "\n",
    "$$m\\begin{bmatrix} \\dot{U} + Q\\,W - R\\,V \\\\ \\dot{V} + R\\,U-P\\,W\\\\\\dot{W}+P\\,V-Q\\,U\\end{bmatrix}=\\begin{matrix} -mg\\sin\\theta - D\\cos\\alpha + L\\sin\\alpha + T\\cos\\theta_T\\\\mg\\sin\\phi\\cos\\theta + F_{A_Y} + F_{T_Y}\\\\mg\\cos\\phi\\cos\\theta - D\\sin\\alpha - L\\cos\\alpha - T\\sin\\theta_T\\end{matrix}$$\n",
    "\n",
    "## Angular Motion:\n",
    "\n",
    "$$\\left[{\\begin{matrix} \\dot{P}\\cdot I_{xx} \\\\ \\dot{Q}\\cdot I_{yy} \\\\\\dot{R}\\cdot I_{zz}\\end{matrix}} \\hspace{.5cm} \\begin{matrix} + \\\\+\\\\+\\end{matrix} \\hspace{.5cm} {\\begin{matrix} Q\\cdot R\\left(I_{zz} - I_{yy}\\right) \\\\ P\\cdot R\\left(I_{xx} - I_{zz}\\right) \\\\ P\\cdot Q\\left(I_{yy} - I_{xx}\\right)\\end{matrix}} \\hspace{.5cm} \\begin{matrix} - \\\\+\\\\+\\end{matrix} \\hspace{.5cm} {\\begin{matrix}\\left(\\dot{R} + P\\cdot Q\\right) I_{xz} \\\\ \\left(P^2 - R^2\\right) I_{xz} \\\\ \\left(Q\\cdot R - \\dot{P}\\right) I_{xz}\\end{matrix}} \\right] = \\begin{bmatrix} L \\\\ M \\\\ N\\end{bmatrix}$$\n",
    "\n",
    "## Body angular rate due to an attitude rate:\n",
    "\n",
    "$$\\begin{aligned}\n",
    "    \\begin{bmatrix} P\\\\Q\\\\R\\end{bmatrix} &= \\begin{bmatrix}\n",
    "    1 & 0 & -\\sin\\theta\\\\\n",
    "    0 & \\cos\\phi & \\sin\\phi\\cos\\theta\\\\\n",
    "    0 & -\\sin\\phi & \\cos\\phi\\cos\\theta\n",
    " \\end{bmatrix}\\begin{bmatrix} \\dot{\\phi}\\\\\\dot{\\theta}\\\\\\dot{\\psi}\\end{bmatrix}\\end{aligned}$$\n",
    "\n",
    "## Attitude rate due to a body rate\n",
    "\n",
    "$$\\begin{aligned}\n",
    "\\begin{bmatrix} \\dot{\\phi}\\\\\\dot{\\theta}\\\\\\dot{\\psi}\\end{bmatrix}&= \\begin{bmatrix}\n",
    "    1 & \\sin\\phi\\tan\\theta & \\cos\\phi\\tan\\theta\\\\\n",
    "    0 & \\cos\\phi & -\\sin\\phi    \\\\\n",
    "    0 & \\frac{\\sin\\phi}{\\cos\\theta} & \\frac{\\cos\\phi}{\\cos\\theta}\n",
    " \\end{bmatrix}\\begin{bmatrix} P\\\\Q\\\\R\\end{bmatrix}\\end{aligned}$$"
   ]
  },
  {
   "cell_type": "code",
   "execution_count": null,
   "metadata": {},
   "outputs": [],
   "source": []
  }
 ],
 "metadata": {
  "kernelspec": {
   "display_name": "Python 3",
   "language": "python",
   "name": "python3"
  },
  "language_info": {
   "codemirror_mode": {
    "name": "ipython",
    "version": 3
   },
   "file_extension": ".py",
   "mimetype": "text/x-python",
   "name": "python",
   "nbconvert_exporter": "python",
   "pygments_lexer": "ipython3",
   "version": "3.12.6"
  }
 },
 "nbformat": 4,
 "nbformat_minor": 4
}